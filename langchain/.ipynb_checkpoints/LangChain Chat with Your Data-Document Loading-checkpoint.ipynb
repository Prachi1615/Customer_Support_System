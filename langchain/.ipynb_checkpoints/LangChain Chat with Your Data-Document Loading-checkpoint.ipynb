{
 "cells": [
  {
   "cell_type": "code",
   "execution_count": 1,
   "id": "e47e36f3-f554-4574-b56c-4d9e0f62ab4c",
   "metadata": {},
   "outputs": [],
   "source": [
    "#############################################################\n",
    "# # Document Loading\n",
    "#############################################################"
   ]
  },
  {
   "cell_type": "code",
   "execution_count": 2,
   "id": "cdc64375-b974-4e94-a8d8-e0f04475cd86",
   "metadata": {},
   "outputs": [],
   "source": [
    "#############################################################\n",
    "# ## Note to students.\n",
    "# - During periods of high load you may find the \n",
    "#   notebook unresponsive. \n",
    "# - It may appear to execute a cell, update the completion \n",
    "#   number in brackets [#] at the left of the cell but you \n",
    "#   may find the cell has not executed. \n",
    "# - This is particularly obvious on print statements \n",
    "#   when there is no output. If this happens, restart \n",
    "#   the kernel using the command under the Kernel tab.\n",
    "#############################################################"
   ]
  },
  {
   "cell_type": "code",
   "execution_count": 3,
   "id": "094d2847-7328-4fb2-bdb8-3626d91e7cf1",
   "metadata": {},
   "outputs": [],
   "source": [
    "#############################################################\n",
    "# Retrieval Rugmented Generation\n",
    "#  \n",
    "# - In Retrieval Augmented Generation (RAG), an \n",
    "#   LLM retrieves contextual documents from an external \n",
    "#   dataset as part of its execution. \n",
    "#   + This is useful if we want to ask question about specific \n",
    "#     documents \n",
    "#\n",
    "#       + PDF\n",
    "#       + Youtube\n",
    "#       + URL (web pages)\n",
    "#       + Notion (database structured data)\n",
    "#\n",
    "# - The purpose of document loaders is to take this variety \n",
    "#   of data sources and load them into a standard document\n",
    "#   object, which consists of \n",
    "#   + content \n",
    "#   + associated metadata.\n",
    "#############################################################"
   ]
  },
  {
   "cell_type": "code",
   "execution_count": 4,
   "id": "1fcefb3f-29a8-4f43-aea3-6d57f54d4aa2",
   "metadata": {
    "tags": []
   },
   "outputs": [],
   "source": [
    "# ![overview.jpeg](attachment:overview.jpeg)"
   ]
  },
  {
   "cell_type": "code",
   "execution_count": 5,
   "id": "f4270b97-034d-4bf3-84cd-4579f3fb64a3",
   "metadata": {
    "tags": []
   },
   "outputs": [
    {
     "name": "stdout",
     "output_type": "stream",
     "text": [
      "Requirement already satisfied: langchain in /Users/rumnraisin/anaconda3/lib/python3.11/site-packages (0.1.11)\n",
      "Requirement already satisfied: PyYAML>=5.3 in /Users/rumnraisin/anaconda3/lib/python3.11/site-packages (from langchain) (6.0)\n",
      "Requirement already satisfied: SQLAlchemy<3,>=1.4 in /Users/rumnraisin/anaconda3/lib/python3.11/site-packages (from langchain) (1.4.39)\n",
      "Requirement already satisfied: aiohttp<4.0.0,>=3.8.3 in /Users/rumnraisin/anaconda3/lib/python3.11/site-packages (from langchain) (3.8.5)\n",
      "Requirement already satisfied: dataclasses-json<0.7,>=0.5.7 in /Users/rumnraisin/anaconda3/lib/python3.11/site-packages (from langchain) (0.6.4)\n",
      "Requirement already satisfied: jsonpatch<2.0,>=1.33 in /Users/rumnraisin/anaconda3/lib/python3.11/site-packages (from langchain) (1.33)\n",
      "Requirement already satisfied: langchain-community<0.1,>=0.0.25 in /Users/rumnraisin/anaconda3/lib/python3.11/site-packages (from langchain) (0.0.25)\n",
      "Requirement already satisfied: langchain-core<0.2,>=0.1.29 in /Users/rumnraisin/anaconda3/lib/python3.11/site-packages (from langchain) (0.1.29)\n",
      "Requirement already satisfied: langchain-text-splitters<0.1,>=0.0.1 in /Users/rumnraisin/anaconda3/lib/python3.11/site-packages (from langchain) (0.0.1)\n",
      "Requirement already satisfied: langsmith<0.2.0,>=0.1.17 in /Users/rumnraisin/anaconda3/lib/python3.11/site-packages (from langchain) (0.1.17)\n",
      "Requirement already satisfied: numpy<2,>=1 in /Users/rumnraisin/anaconda3/lib/python3.11/site-packages (from langchain) (1.24.3)\n",
      "Requirement already satisfied: pydantic<3,>=1 in /Users/rumnraisin/anaconda3/lib/python3.11/site-packages (from langchain) (1.10.8)\n",
      "Requirement already satisfied: requests<3,>=2 in /Users/rumnraisin/anaconda3/lib/python3.11/site-packages (from langchain) (2.31.0)\n",
      "Requirement already satisfied: tenacity<9.0.0,>=8.1.0 in /Users/rumnraisin/anaconda3/lib/python3.11/site-packages (from langchain) (8.2.2)\n",
      "Requirement already satisfied: attrs>=17.3.0 in /Users/rumnraisin/anaconda3/lib/python3.11/site-packages (from aiohttp<4.0.0,>=3.8.3->langchain) (22.1.0)\n",
      "Requirement already satisfied: charset-normalizer<4.0,>=2.0 in /Users/rumnraisin/anaconda3/lib/python3.11/site-packages (from aiohttp<4.0.0,>=3.8.3->langchain) (2.0.4)\n",
      "Requirement already satisfied: multidict<7.0,>=4.5 in /Users/rumnraisin/anaconda3/lib/python3.11/site-packages (from aiohttp<4.0.0,>=3.8.3->langchain) (6.0.2)\n",
      "Requirement already satisfied: async-timeout<5.0,>=4.0.0a3 in /Users/rumnraisin/anaconda3/lib/python3.11/site-packages (from aiohttp<4.0.0,>=3.8.3->langchain) (4.0.2)\n",
      "Requirement already satisfied: yarl<2.0,>=1.0 in /Users/rumnraisin/anaconda3/lib/python3.11/site-packages (from aiohttp<4.0.0,>=3.8.3->langchain) (1.8.1)\n",
      "Requirement already satisfied: frozenlist>=1.1.1 in /Users/rumnraisin/anaconda3/lib/python3.11/site-packages (from aiohttp<4.0.0,>=3.8.3->langchain) (1.3.3)\n",
      "Requirement already satisfied: aiosignal>=1.1.2 in /Users/rumnraisin/anaconda3/lib/python3.11/site-packages (from aiohttp<4.0.0,>=3.8.3->langchain) (1.2.0)\n",
      "Requirement already satisfied: marshmallow<4.0.0,>=3.18.0 in /Users/rumnraisin/anaconda3/lib/python3.11/site-packages (from dataclasses-json<0.7,>=0.5.7->langchain) (3.21.1)\n",
      "Requirement already satisfied: typing-inspect<1,>=0.4.0 in /Users/rumnraisin/anaconda3/lib/python3.11/site-packages (from dataclasses-json<0.7,>=0.5.7->langchain) (0.9.0)\n",
      "Requirement already satisfied: jsonpointer>=1.9 in /Users/rumnraisin/anaconda3/lib/python3.11/site-packages (from jsonpatch<2.0,>=1.33->langchain) (2.1)\n",
      "Requirement already satisfied: anyio<5,>=3 in /Users/rumnraisin/anaconda3/lib/python3.11/site-packages (from langchain-core<0.2,>=0.1.29->langchain) (3.5.0)\n",
      "Requirement already satisfied: packaging<24.0,>=23.2 in /Users/rumnraisin/anaconda3/lib/python3.11/site-packages (from langchain-core<0.2,>=0.1.29->langchain) (23.2)\n",
      "Requirement already satisfied: orjson<4.0.0,>=3.9.14 in /Users/rumnraisin/anaconda3/lib/python3.11/site-packages (from langsmith<0.2.0,>=0.1.17->langchain) (3.9.15)\n",
      "Requirement already satisfied: typing-extensions>=4.2.0 in /Users/rumnraisin/anaconda3/lib/python3.11/site-packages (from pydantic<3,>=1->langchain) (4.7.1)\n",
      "Requirement already satisfied: idna<4,>=2.5 in /Users/rumnraisin/anaconda3/lib/python3.11/site-packages (from requests<3,>=2->langchain) (3.4)\n",
      "Requirement already satisfied: urllib3<3,>=1.21.1 in /Users/rumnraisin/anaconda3/lib/python3.11/site-packages (from requests<3,>=2->langchain) (2.2.1)\n",
      "Requirement already satisfied: certifi>=2017.4.17 in /Users/rumnraisin/anaconda3/lib/python3.11/site-packages (from requests<3,>=2->langchain) (2024.2.2)\n",
      "Requirement already satisfied: sniffio>=1.1 in /Users/rumnraisin/anaconda3/lib/python3.11/site-packages (from anyio<5,>=3->langchain-core<0.2,>=0.1.29->langchain) (1.2.0)\n",
      "Requirement already satisfied: mypy-extensions>=0.3.0 in /Users/rumnraisin/anaconda3/lib/python3.11/site-packages (from typing-inspect<1,>=0.4.0->dataclasses-json<0.7,>=0.5.7->langchain) (1.0.0)\n"
     ]
    }
   ],
   "source": [
    "! pip install langchain"
   ]
  },
  {
   "cell_type": "code",
   "execution_count": 7,
   "id": "4ac55bef-2e86-45e5-99a2-45417c6c024e",
   "metadata": {
    "tags": []
   },
   "outputs": [],
   "source": [
    "import os\n",
    "from openai import OpenAI\n",
    "# read the api key from environment variable\n",
    "client = OpenAI(api_key=os.getenv(\"OPENAI_API_KEY\"))"
   ]
  },
  {
   "cell_type": "code",
   "execution_count": 8,
   "id": "be55b500-1eff-445d-96bb-7700b482d15c",
   "metadata": {
    "tags": []
   },
   "outputs": [
    {
     "name": "stdout",
     "output_type": "stream",
     "text": [
      "Requirement already satisfied: langchain in /Users/rumnraisin/anaconda3/lib/python3.11/site-packages (0.1.11)\n",
      "Requirement already satisfied: PyYAML>=5.3 in /Users/rumnraisin/anaconda3/lib/python3.11/site-packages (from langchain) (6.0)\n",
      "Requirement already satisfied: SQLAlchemy<3,>=1.4 in /Users/rumnraisin/anaconda3/lib/python3.11/site-packages (from langchain) (1.4.39)\n",
      "Requirement already satisfied: aiohttp<4.0.0,>=3.8.3 in /Users/rumnraisin/anaconda3/lib/python3.11/site-packages (from langchain) (3.8.5)\n",
      "Requirement already satisfied: dataclasses-json<0.7,>=0.5.7 in /Users/rumnraisin/anaconda3/lib/python3.11/site-packages (from langchain) (0.6.4)\n",
      "Requirement already satisfied: jsonpatch<2.0,>=1.33 in /Users/rumnraisin/anaconda3/lib/python3.11/site-packages (from langchain) (1.33)\n",
      "Requirement already satisfied: langchain-community<0.1,>=0.0.25 in /Users/rumnraisin/anaconda3/lib/python3.11/site-packages (from langchain) (0.0.25)\n",
      "Requirement already satisfied: langchain-core<0.2,>=0.1.29 in /Users/rumnraisin/anaconda3/lib/python3.11/site-packages (from langchain) (0.1.29)\n",
      "Requirement already satisfied: langchain-text-splitters<0.1,>=0.0.1 in /Users/rumnraisin/anaconda3/lib/python3.11/site-packages (from langchain) (0.0.1)\n",
      "Requirement already satisfied: langsmith<0.2.0,>=0.1.17 in /Users/rumnraisin/anaconda3/lib/python3.11/site-packages (from langchain) (0.1.17)\n",
      "Requirement already satisfied: numpy<2,>=1 in /Users/rumnraisin/anaconda3/lib/python3.11/site-packages (from langchain) (1.24.3)\n",
      "Requirement already satisfied: pydantic<3,>=1 in /Users/rumnraisin/anaconda3/lib/python3.11/site-packages (from langchain) (1.10.8)\n",
      "Requirement already satisfied: requests<3,>=2 in /Users/rumnraisin/anaconda3/lib/python3.11/site-packages (from langchain) (2.31.0)\n",
      "Requirement already satisfied: tenacity<9.0.0,>=8.1.0 in /Users/rumnraisin/anaconda3/lib/python3.11/site-packages (from langchain) (8.2.2)\n",
      "Requirement already satisfied: attrs>=17.3.0 in /Users/rumnraisin/anaconda3/lib/python3.11/site-packages (from aiohttp<4.0.0,>=3.8.3->langchain) (22.1.0)\n",
      "Requirement already satisfied: charset-normalizer<4.0,>=2.0 in /Users/rumnraisin/anaconda3/lib/python3.11/site-packages (from aiohttp<4.0.0,>=3.8.3->langchain) (2.0.4)\n",
      "Requirement already satisfied: multidict<7.0,>=4.5 in /Users/rumnraisin/anaconda3/lib/python3.11/site-packages (from aiohttp<4.0.0,>=3.8.3->langchain) (6.0.2)\n",
      "Requirement already satisfied: async-timeout<5.0,>=4.0.0a3 in /Users/rumnraisin/anaconda3/lib/python3.11/site-packages (from aiohttp<4.0.0,>=3.8.3->langchain) (4.0.2)\n",
      "Requirement already satisfied: yarl<2.0,>=1.0 in /Users/rumnraisin/anaconda3/lib/python3.11/site-packages (from aiohttp<4.0.0,>=3.8.3->langchain) (1.8.1)\n",
      "Requirement already satisfied: frozenlist>=1.1.1 in /Users/rumnraisin/anaconda3/lib/python3.11/site-packages (from aiohttp<4.0.0,>=3.8.3->langchain) (1.3.3)\n",
      "Requirement already satisfied: aiosignal>=1.1.2 in /Users/rumnraisin/anaconda3/lib/python3.11/site-packages (from aiohttp<4.0.0,>=3.8.3->langchain) (1.2.0)\n",
      "Requirement already satisfied: marshmallow<4.0.0,>=3.18.0 in /Users/rumnraisin/anaconda3/lib/python3.11/site-packages (from dataclasses-json<0.7,>=0.5.7->langchain) (3.21.1)\n",
      "Requirement already satisfied: typing-inspect<1,>=0.4.0 in /Users/rumnraisin/anaconda3/lib/python3.11/site-packages (from dataclasses-json<0.7,>=0.5.7->langchain) (0.9.0)\n",
      "Requirement already satisfied: jsonpointer>=1.9 in /Users/rumnraisin/anaconda3/lib/python3.11/site-packages (from jsonpatch<2.0,>=1.33->langchain) (2.1)\n",
      "Requirement already satisfied: anyio<5,>=3 in /Users/rumnraisin/anaconda3/lib/python3.11/site-packages (from langchain-core<0.2,>=0.1.29->langchain) (3.5.0)\n",
      "Requirement already satisfied: packaging<24.0,>=23.2 in /Users/rumnraisin/anaconda3/lib/python3.11/site-packages (from langchain-core<0.2,>=0.1.29->langchain) (23.2)\n",
      "Requirement already satisfied: orjson<4.0.0,>=3.9.14 in /Users/rumnraisin/anaconda3/lib/python3.11/site-packages (from langsmith<0.2.0,>=0.1.17->langchain) (3.9.15)\n",
      "Requirement already satisfied: typing-extensions>=4.2.0 in /Users/rumnraisin/anaconda3/lib/python3.11/site-packages (from pydantic<3,>=1->langchain) (4.7.1)\n",
      "Requirement already satisfied: idna<4,>=2.5 in /Users/rumnraisin/anaconda3/lib/python3.11/site-packages (from requests<3,>=2->langchain) (3.4)\n",
      "Requirement already satisfied: urllib3<3,>=1.21.1 in /Users/rumnraisin/anaconda3/lib/python3.11/site-packages (from requests<3,>=2->langchain) (2.2.1)\n",
      "Requirement already satisfied: certifi>=2017.4.17 in /Users/rumnraisin/anaconda3/lib/python3.11/site-packages (from requests<3,>=2->langchain) (2024.2.2)\n",
      "Requirement already satisfied: sniffio>=1.1 in /Users/rumnraisin/anaconda3/lib/python3.11/site-packages (from anyio<5,>=3->langchain-core<0.2,>=0.1.29->langchain) (1.2.0)\n",
      "Requirement already satisfied: mypy-extensions>=0.3.0 in /Users/rumnraisin/anaconda3/lib/python3.11/site-packages (from typing-inspect<1,>=0.4.0->dataclasses-json<0.7,>=0.5.7->langchain) (1.0.0)\n",
      "Requirement already satisfied: langchain-community in /Users/rumnraisin/anaconda3/lib/python3.11/site-packages (0.0.25)\n",
      "Requirement already satisfied: PyYAML>=5.3 in /Users/rumnraisin/anaconda3/lib/python3.11/site-packages (from langchain-community) (6.0)\n",
      "Requirement already satisfied: SQLAlchemy<3,>=1.4 in /Users/rumnraisin/anaconda3/lib/python3.11/site-packages (from langchain-community) (1.4.39)\n",
      "Requirement already satisfied: aiohttp<4.0.0,>=3.8.3 in /Users/rumnraisin/anaconda3/lib/python3.11/site-packages (from langchain-community) (3.8.5)\n",
      "Requirement already satisfied: dataclasses-json<0.7,>=0.5.7 in /Users/rumnraisin/anaconda3/lib/python3.11/site-packages (from langchain-community) (0.6.4)\n",
      "Requirement already satisfied: langchain-core<0.2.0,>=0.1.28 in /Users/rumnraisin/anaconda3/lib/python3.11/site-packages (from langchain-community) (0.1.29)\n",
      "Requirement already satisfied: langsmith<0.2.0,>=0.1.0 in /Users/rumnraisin/anaconda3/lib/python3.11/site-packages (from langchain-community) (0.1.17)\n",
      "Requirement already satisfied: numpy<2,>=1 in /Users/rumnraisin/anaconda3/lib/python3.11/site-packages (from langchain-community) (1.24.3)\n",
      "Requirement already satisfied: requests<3,>=2 in /Users/rumnraisin/anaconda3/lib/python3.11/site-packages (from langchain-community) (2.31.0)\n",
      "Requirement already satisfied: tenacity<9.0.0,>=8.1.0 in /Users/rumnraisin/anaconda3/lib/python3.11/site-packages (from langchain-community) (8.2.2)\n",
      "Requirement already satisfied: attrs>=17.3.0 in /Users/rumnraisin/anaconda3/lib/python3.11/site-packages (from aiohttp<4.0.0,>=3.8.3->langchain-community) (22.1.0)\n",
      "Requirement already satisfied: charset-normalizer<4.0,>=2.0 in /Users/rumnraisin/anaconda3/lib/python3.11/site-packages (from aiohttp<4.0.0,>=3.8.3->langchain-community) (2.0.4)\n",
      "Requirement already satisfied: multidict<7.0,>=4.5 in /Users/rumnraisin/anaconda3/lib/python3.11/site-packages (from aiohttp<4.0.0,>=3.8.3->langchain-community) (6.0.2)\n",
      "Requirement already satisfied: async-timeout<5.0,>=4.0.0a3 in /Users/rumnraisin/anaconda3/lib/python3.11/site-packages (from aiohttp<4.0.0,>=3.8.3->langchain-community) (4.0.2)\n",
      "Requirement already satisfied: yarl<2.0,>=1.0 in /Users/rumnraisin/anaconda3/lib/python3.11/site-packages (from aiohttp<4.0.0,>=3.8.3->langchain-community) (1.8.1)\n",
      "Requirement already satisfied: frozenlist>=1.1.1 in /Users/rumnraisin/anaconda3/lib/python3.11/site-packages (from aiohttp<4.0.0,>=3.8.3->langchain-community) (1.3.3)\n",
      "Requirement already satisfied: aiosignal>=1.1.2 in /Users/rumnraisin/anaconda3/lib/python3.11/site-packages (from aiohttp<4.0.0,>=3.8.3->langchain-community) (1.2.0)\n",
      "Requirement already satisfied: marshmallow<4.0.0,>=3.18.0 in /Users/rumnraisin/anaconda3/lib/python3.11/site-packages (from dataclasses-json<0.7,>=0.5.7->langchain-community) (3.21.1)\n",
      "Requirement already satisfied: typing-inspect<1,>=0.4.0 in /Users/rumnraisin/anaconda3/lib/python3.11/site-packages (from dataclasses-json<0.7,>=0.5.7->langchain-community) (0.9.0)\n",
      "Requirement already satisfied: anyio<5,>=3 in /Users/rumnraisin/anaconda3/lib/python3.11/site-packages (from langchain-core<0.2.0,>=0.1.28->langchain-community) (3.5.0)\n",
      "Requirement already satisfied: jsonpatch<2.0,>=1.33 in /Users/rumnraisin/anaconda3/lib/python3.11/site-packages (from langchain-core<0.2.0,>=0.1.28->langchain-community) (1.33)\n",
      "Requirement already satisfied: packaging<24.0,>=23.2 in /Users/rumnraisin/anaconda3/lib/python3.11/site-packages (from langchain-core<0.2.0,>=0.1.28->langchain-community) (23.2)\n",
      "Requirement already satisfied: pydantic<3,>=1 in /Users/rumnraisin/anaconda3/lib/python3.11/site-packages (from langchain-core<0.2.0,>=0.1.28->langchain-community) (1.10.8)\n",
      "Requirement already satisfied: orjson<4.0.0,>=3.9.14 in /Users/rumnraisin/anaconda3/lib/python3.11/site-packages (from langsmith<0.2.0,>=0.1.0->langchain-community) (3.9.15)\n",
      "Requirement already satisfied: idna<4,>=2.5 in /Users/rumnraisin/anaconda3/lib/python3.11/site-packages (from requests<3,>=2->langchain-community) (3.4)\n",
      "Requirement already satisfied: urllib3<3,>=1.21.1 in /Users/rumnraisin/anaconda3/lib/python3.11/site-packages (from requests<3,>=2->langchain-community) (2.2.1)\n",
      "Requirement already satisfied: certifi>=2017.4.17 in /Users/rumnraisin/anaconda3/lib/python3.11/site-packages (from requests<3,>=2->langchain-community) (2024.2.2)\n",
      "Requirement already satisfied: sniffio>=1.1 in /Users/rumnraisin/anaconda3/lib/python3.11/site-packages (from anyio<5,>=3->langchain-core<0.2.0,>=0.1.28->langchain-community) (1.2.0)\n",
      "Requirement already satisfied: jsonpointer>=1.9 in /Users/rumnraisin/anaconda3/lib/python3.11/site-packages (from jsonpatch<2.0,>=1.33->langchain-core<0.2.0,>=0.1.28->langchain-community) (2.1)\n",
      "Requirement already satisfied: typing-extensions>=4.2.0 in /Users/rumnraisin/anaconda3/lib/python3.11/site-packages (from pydantic<3,>=1->langchain-core<0.2.0,>=0.1.28->langchain-community) (4.7.1)\n",
      "Requirement already satisfied: mypy-extensions>=0.3.0 in /Users/rumnraisin/anaconda3/lib/python3.11/site-packages (from typing-inspect<1,>=0.4.0->dataclasses-json<0.7,>=0.5.7->langchain-community) (1.0.0)\n"
     ]
    }
   ],
   "source": [
    "! pip install --upgrade langchain\n",
    "! pip install langchain-community"
   ]
  },
  {
   "cell_type": "code",
   "execution_count": 9,
   "id": "a43d03f0-c2c2-4e26-a6d6-f32b7776ba6f",
   "metadata": {},
   "outputs": [],
   "source": [
    "#############################################################\n",
    "# 1. PDFs\n",
    "# \n",
    "# Let's load a PDF (SFBU catalogue)\n",
    "#############################################################"
   ]
  },
  {
   "cell_type": "code",
   "execution_count": 11,
   "id": "4e11573a-4980-4095-949f-1a16ac8c4908",
   "metadata": {
    "tags": []
   },
   "outputs": [],
   "source": [
    "\n",
    "from langchain_community.document_loaders.pdf import PyPDFLoader\n",
    "from langchain.document_loaders.parsers.pdf import PyPDFParser\n",
    "\n",
    "# Import other parsers as needed\n",
    "\n",
    "loader = PyPDFLoader('2023Catalog.pdf')\n",
    "pages = loader.load_and_split()"
   ]
  },
  {
   "cell_type": "code",
   "execution_count": 12,
   "id": "745f5d6b-2d4e-4554-9888-b440bf25287e",
   "metadata": {},
   "outputs": [],
   "source": [
    "# Each page is a `Document`.\n",
    "# \n",
    "# A `Document` contains \n",
    "# - text (`page_content`) \n",
    "# - `metadata`."
   ]
  },
  {
   "cell_type": "code",
   "execution_count": 13,
   "id": "1c521b2e-7f00-40ab-92b0-209fc56f70f2",
   "metadata": {
    "tags": []
   },
   "outputs": [
    {
     "name": "stdout",
     "output_type": "stream",
     "text": [
      "Catalog 202 3 i ver. 202 3.09.24 \n",
      "161 Mission Falls Lane, Fremont, CA 94539  \n",
      "Tel: (510) 803-SFBU ( 7328); e -mail: admissions@sfbu.edu  \n",
      " \n",
      " \n",
      "2023 CATALOG                           JAN 1 - DEC 31, 2023\n"
     ]
    }
   ],
   "source": [
    "len(pages)\n",
    "page = pages[0]\n",
    "print(page.page_content[0:500])"
   ]
  },
  {
   "cell_type": "code",
   "execution_count": 14,
   "id": "72aabc63-4c8d-49dc-8ece-87ecfa647897",
   "metadata": {
    "tags": []
   },
   "outputs": [
    {
     "data": {
      "text/plain": [
       "{'source': '2023Catalog.pdf', 'page': 0}"
      ]
     },
     "execution_count": 14,
     "metadata": {},
     "output_type": "execute_result"
    }
   ],
   "source": [
    "page.metadata"
   ]
  },
  {
   "cell_type": "code",
   "execution_count": 15,
   "id": "79adb920-e53f-444b-be3c-a94116bb3090",
   "metadata": {},
   "outputs": [],
   "source": [
    "#############################################################\n",
    "# 2. YouTube\n",
    "#############################################################"
   ]
  },
  {
   "cell_type": "code",
   "execution_count": 16,
   "id": "0a75b5d3-2154-49c8-b088-5ebd8f3c9a8c",
   "metadata": {
    "tags": []
   },
   "outputs": [],
   "source": [
    "from langchain_community.document_loaders.generic import GenericLoader\n",
    "from langchain_community.document_loaders.parsers import OpenAIWhisperParser\n",
    "from langchain_community.document_loaders.blob_loaders.youtube_audio import YoutubeAudioLoader"
   ]
  },
  {
   "cell_type": "code",
   "execution_count": null,
   "id": "44ff1398-2462-4da0-85bc-b140d8e73c9d",
   "metadata": {
    "tags": []
   },
   "outputs": [],
   "source": [
    "! pip install yt_dlp\n",
    "! pip install pydub"
   ]
  },
  {
   "cell_type": "code",
   "execution_count": null,
   "id": "36d10202-6a73-4a8e-9340-9de304d431b9",
   "metadata": {
    "tags": []
   },
   "outputs": [],
   "source": [
    "!pip install ffmpeg\n",
    "! pip install ffprobe"
   ]
  },
  {
   "cell_type": "code",
   "execution_count": 17,
   "id": "0067d0f3-3d4b-4048-9858-32ed8714dbc0",
   "metadata": {
    "tags": []
   },
   "outputs": [],
   "source": [
    "url=\"https://www.youtube.com/watch?v=kuZNIvdwnMc\"\n",
    "\n",
    "save_dir=\"docs/youtube/\"\n",
    "\n",
    "loader = GenericLoader(\n",
    "    YoutubeAudioLoader([url],save_dir),\n",
    "    OpenAIWhisperParser()\n",
    ")"
   ]
  },
  {
   "cell_type": "code",
   "execution_count": 18,
   "id": "5ea7d46e-7f30-4b99-8e95-a5ef221b9c60",
   "metadata": {},
   "outputs": [
    {
     "name": "stdout",
     "output_type": "stream",
     "text": [
      "[youtube] Extracting URL: https://www.youtube.com/watch?v=kuZNIvdwnMc\n",
      "[youtube] kuZNIvdwnMc: Downloading webpage\n",
      "[youtube] kuZNIvdwnMc: Downloading ios player API JSON\n",
      "[youtube] kuZNIvdwnMc: Downloading android player API JSON\n",
      "[youtube] kuZNIvdwnMc: Downloading m3u8 information\n",
      "[info] kuZNIvdwnMc: Downloading 1 format(s): 140\n",
      "[download] docs/youtube//San Francisco Bay University MBA Student Spotlight： John Odebode.m4a has already been downloaded\n",
      "[download] 100% of   10.20MiB\n",
      "[ExtractAudio] Not converting audio docs/youtube//San Francisco Bay University MBA Student Spotlight： John Odebode.m4a; file is already in target format m4a\n",
      "Transcribing part 1!\n"
     ]
    },
    {
     "data": {
      "text/plain": [
       "\"My name is John, John Odebode. I am studying for an MBA program here at SFBU. It's my final trimester at SFBU and I will be graduating in two weeks. I am from Nigeria. I studied at the University of Lagos for my first degree in philosophy. I also studied for my first master's degree in philosophy as well at the same university. I have been practicing within the supply chain industry for the past six years. I have spent the most part of my career at ExxonMobil and I recently completed a six-month\""
      ]
     },
     "execution_count": 18,
     "metadata": {},
     "output_type": "execute_result"
    }
   ],
   "source": [
    "docs = loader.load()\n",
    "docs[0].page_content[0:500]\n"
   ]
  },
  {
   "cell_type": "code",
   "execution_count": null,
   "id": "e09e841f-d9b1-4b2e-ae03-8a752ca7f3cf",
   "metadata": {},
   "outputs": [],
   "source": [
    "#############################################################\n",
    "# 3. URLs\n",
    "#############################################################"
   ]
  },
  {
   "cell_type": "code",
   "execution_count": 22,
   "id": "0bc34925-e8be-4113-b6c9-0cf973a3eb48",
   "metadata": {},
   "outputs": [
    {
     "name": "stdout",
     "output_type": "stream",
     "text": [
      "\n",
      "\n",
      "\n",
      "\n",
      "\n",
      "\n",
      "\n",
      "\n",
      "\n",
      "\n",
      "\n",
      "\n",
      "\n",
      "\n",
      "\n",
      "\n",
      "\n",
      "\n",
      "\n",
      "\n",
      "\n",
      "Student Health Insurance\n",
      "\n",
      "\n",
      "\n",
      "\n",
      "\n",
      "\n",
      "\n",
      "\n",
      "\n",
      "\n",
      "\n",
      "\n",
      "\n",
      "\n",
      "\n",
      "\n",
      "\n",
      "\n",
      "\n",
      "\n",
      "\n",
      "\n",
      "\n",
      "\n",
      "\n",
      "\n",
      "\n",
      "\n",
      "\n",
      "\n",
      "\n",
      "\n",
      "\n",
      "\n",
      "\n",
      "\n",
      "\n",
      "\n",
      "\n",
      "\n",
      "      Skip to main content\n",
      "    \n",
      "\n",
      "\n",
      " \n",
      "\n",
      "\n",
      "\n",
      "\n",
      "\n",
      "\n",
      "\n",
      "\n",
      "\n",
      "\n",
      "\n",
      "\n",
      "\n",
      "\n",
      "\n",
      "Main navigation\n",
      "\n",
      "\n",
      "About Us\n",
      "\n",
      "\n",
      "Overview\n",
      "\n",
      "\n",
      "University Leadership\n",
      "\n",
      "\n",
      "Strategic Plan\n",
      "\n",
      "\n",
      "Accreditation\n",
      "\n",
      "\n",
      "Policies\n",
      "\n",
      "\n",
      "Careers\n",
      "\n",
      "\n",
      "\n",
      "\n",
      "Admissions\n",
      "\n",
      "\n",
      "Requirements for Degree Programs\n",
      "\n",
      "\n",
      "Requirements for Intensive English Program\n",
      "\n",
      "\n",
      "Scholarships\n",
      "\n",
      "\n",
      "Tuition & Costs\n",
      "\n",
      "\n",
      "Articulation & Transfer Agreements\n",
      "\n",
      "\n",
      "Contact Admissions Team\n",
      "\n",
      "\n",
      "Admitted Students\n",
      "\n",
      "\n",
      "\n",
      "\n",
      "Academics\n",
      "\n",
      "\n",
      "School of Business\n",
      "\n",
      "\n"
     ]
    }
   ],
   "source": [
    "from langchain_community.document_loaders.web_base import WebBaseLoader\n",
    "\n",
    "loader = WebBaseLoader(\"https://www.sfbu.edu/admissions/student-health-insurance\")\n",
    "\n",
    "\n",
    "docs = loader.load()\n",
    "\n",
    "\n",
    "print(docs[0].page_content[:500])"
   ]
  },
  {
   "cell_type": "code",
   "execution_count": 23,
   "id": "489646a9-345b-4528-9977-ff30131e097b",
   "metadata": {},
   "outputs": [],
   "source": [
    "#############################################################\n",
    "# 4. Notion\n",
    "#\n",
    "# - Notion is a really popular store of both personal \n",
    "#   and company data, and a lot of people have created \n",
    "#   chatbots talking to their Notion databases.\n",
    "# - Follow steps [here](https://python.langchain.com/docs/modules/\n",
    "# data_connection/document_loaders/integrations/notion) for an \n",
    "# example Notion site such as [this one](https://yolospace.notion.\n",
    "# site/Blendle-s-Employee-Handbook-\n",
    "# e31bff7da17346ee99f531087d8b133f):\n",
    "# \n",
    "# - Duplicate the page into your own Notion space and \n",
    "#   export as `Markdown / CSV`.\n",
    "# - Unzip it and save it as a folder that contains the \n",
    "#   markdown file for the Notion page.\n",
    "#############################################################\n",
    "\n",
    "# ![image.png](./img/image.png)\n",
    "\n",
    "# In[ ]:\n",
    "\n"
   ]
  },
  {
   "cell_type": "code",
   "execution_count": 34,
   "id": "68b07b39-a90c-4d7d-9a2d-082824a845f3",
   "metadata": {},
   "outputs": [
    {
     "name": "stdout",
     "output_type": "stream",
     "text": [
      "# Your 1st month\n",
      "\n",
      "Hey you! Welcome to Blendle. Buckle up, you're in for one hell of a ride :). \n",
      "\n",
      "The faster you get settled in the better, so we came up with a structure for your first month to make s\n"
     ]
    }
   ],
   "source": [
    "from langchain_community.document_loaders.notion import NotionDirectoryLoader\n",
    "loader = NotionDirectoryLoader(\"2f1f7b2e-7138-4af0-8891-50e04ad56454_Export-326004c6-1ce0-4c4f-86d9-3149769bd3ba/Blendle's Employee Handbook c47cde56a3924610833bb8a8ff4dacb8\")\n",
    "docs = loader.load()\n",
    "\n",
    "print(docs[0].page_content[0:200])"
   ]
  },
  {
   "cell_type": "code",
   "execution_count": 35,
   "id": "cfa4f1d5-9d0e-497d-a772-56002bff7870",
   "metadata": {
    "tags": []
   },
   "outputs": [
    {
     "data": {
      "text/plain": [
       "{'source': \"2f1f7b2e-7138-4af0-8891-50e04ad56454_Export-326004c6-1ce0-4c4f-86d9-3149769bd3ba/Blendle's Employee Handbook c47cde56a3924610833bb8a8ff4dacb8/Your 1st month 55783656b7d24e219627b9ed43ef74cd.md\"}"
      ]
     },
     "execution_count": 35,
     "metadata": {},
     "output_type": "execute_result"
    }
   ],
   "source": [
    "docs[0].metadata"
   ]
  },
  {
   "cell_type": "code",
   "execution_count": null,
   "id": "34caf111-adc4-4ec4-9ecb-9defb9bb9ffb",
   "metadata": {},
   "outputs": [],
   "source": []
  }
 ],
 "metadata": {
  "kernelspec": {
   "display_name": "Python 3 (ipykernel)",
   "language": "python",
   "name": "python3"
  },
  "language_info": {
   "codemirror_mode": {
    "name": "ipython",
    "version": 3
   },
   "file_extension": ".py",
   "mimetype": "text/x-python",
   "name": "python",
   "nbconvert_exporter": "python",
   "pygments_lexer": "ipython3",
   "version": "3.11.5"
  }
 },
 "nbformat": 4,
 "nbformat_minor": 5
}
